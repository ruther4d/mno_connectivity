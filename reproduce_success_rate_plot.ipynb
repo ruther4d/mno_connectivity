{
 "cells": [
  {
   "cell_type": "raw",
   "id": "ec4ff3c3-cedc-4b9f-9531-d690881f48fb",
   "metadata": {
    "jupyter": {
     "source_hidden": true
    }
   },
   "source": [
    "WITH clean_mno as (select CASE \n",
    "    WHEN (Device_SIMServiceProvider = '3' AND  Device_SIMServiceProvider = 'Three Mobile' ) THEN '3'\n",
    "    WHEN (Device_SIMServiceProviderBrandName = 'O2' AND  Device_SIMServiceProvider = 'O2' ) THEN 'O2'\n",
    "    WHEN (Device_SIMServiceProviderBrandName = 'Vodafone' AND  Device_SIMServiceProvider = 'Vodafone' ) THEN 'V'\n",
    "    WHEN (Device_SIMServiceProviderBrandName = 'EE' AND  Device_SIMServiceProvider = 'EE' ) THEN 'EE'\n",
    "    ELSE CONCAT('raw_',Device_SIMServiceProviderBrandName,'_',Device_SIMServiceProvider) \n",
    "END\n",
    " as cleaned_mno,CASE \n",
    "\n",
    "      WHEN Connection_Category = '4G' THEN '4' \n",
    "      WHEN Connection_Category = '5G NSA' THEN '4' \n",
    "      WHEN Connection_Category = '5G' THEN '5' \n",
    "      WHEN Connection_Category = '5G SA' THEN '5'\n",
    "      WHEN Connection_Category = 'FIVEG_UNKNOWN' THEN '5' \n",
    "      WHEN Connection_Category = '3G' THEN '3'\n",
    "      WHEN Connection_Category = '2G' THEN '2' \n",
    "      WHEN Connection_Category = 'CALL_SERVICE_ONLY' THEN 'C' \n",
    "      WHEN Connection_Category = 'NO_SERVICE' THEN 'NO'\n",
    "      ELSE Connection_Category \n",
    "\n",
    "    END AS Connection_Category_clean,\n",
    "\n",
    " CASE\n",
    "    WHEN (QOS_UploadThroughputTestStatus = 'COMPLETED') THEN 0\n",
    "    WHEN (QOS_UploadThroughputTestStatus = 'TIMEOUT_CONNECTING_TO_REMOTE') THEN 1\n",
    "    WHEN (QOS_UploadThroughputTestStatus = 'SOCKET_OPEN_FAILURE') THEN 2\n",
    "    WHEN (QOS_UploadThroughputTestStatus = 'TIMEOUT') THEN 3\n",
    "    WHEN (QOS_UploadThroughputTestStatus = 'UPLOAD_RESPONSE_ERROR') THEN 4\n",
    "    WHEN (QOS_UploadThroughputTestStatus = 'CONNECTION_CHANGE') THEN 5    \n",
    "    WHEN (QOS_UploadThroughputTestStatus = 'SERVER_ERROR') THEN 6\n",
    "    ELSE -1\n",
    " END as test_status,*\n",
    " \n",
    " FROM `onx-ofcom-uk.ONXData.UnitedKingdom_Mobile_Last365Day`) SELECT count(1) as c, cleaned_mno,test_status,QOS_SignalStrength,Connection_Category_clean FROM clean_mno \n",
    " WHERE QOS_UploadThroughputTestStatus IS NOT NULL AND QOS_SignalStrength IS NOT NULL \n",
    " GROUP BY cleaned_mno,test_status,QOS_SignalStrength,Connection_Category_clean"
   ]
  },
  {
   "cell_type": "code",
   "execution_count": 431,
   "id": "0c170a66-1765-451b-a8c6-9f7e6fad6490",
   "metadata": {},
   "outputs": [],
   "source": [
    "import pandas as pd\n",
    "import matplotlib.pyplot as plt\n",
    "import re\n",
    "import scipy.stats\n",
    "import numpy as np\n",
    "from statsmodels.stats.proportion import proportion_confint"
   ]
  },
  {
   "cell_type": "code",
   "execution_count": 576,
   "id": "e91f539d-022f-419b-8bff-f78ab1cfc54e",
   "metadata": {},
   "outputs": [],
   "source": [
    "df = pd.read_csv('data/bquxjob_29c884e7_1949d1db4fb.csv')"
   ]
  },
  {
   "cell_type": "code",
   "execution_count": 577,
   "id": "11db118e-36e8-4054-b0e1-8677f84b04e4",
   "metadata": {},
   "outputs": [
    {
     "data": {
      "text/plain": [
       "c                             int64\n",
       "cleaned_mno                  object\n",
       "test_status                   int64\n",
       "QOS_SignalStrength            int64\n",
       "Connection_Category_clean    object\n",
       "dtype: object"
      ]
     },
     "execution_count": 577,
     "metadata": {},
     "output_type": "execute_result"
    }
   ],
   "source": [
    "df.dtypes"
   ]
  },
  {
   "cell_type": "code",
   "execution_count": 579,
   "id": "ff4f5f20-38e3-46bf-8427-1591298dc470",
   "metadata": {},
   "outputs": [
    {
     "data": {
      "text/html": [
       "<div>\n",
       "<style scoped>\n",
       "    .dataframe tbody tr th:only-of-type {\n",
       "        vertical-align: middle;\n",
       "    }\n",
       "\n",
       "    .dataframe tbody tr th {\n",
       "        vertical-align: top;\n",
       "    }\n",
       "\n",
       "    .dataframe thead th {\n",
       "        text-align: right;\n",
       "    }\n",
       "</style>\n",
       "<table border=\"1\" class=\"dataframe\">\n",
       "  <thead>\n",
       "    <tr style=\"text-align: right;\">\n",
       "      <th></th>\n",
       "      <th>c</th>\n",
       "      <th>cleaned_mno</th>\n",
       "      <th>test_status</th>\n",
       "      <th>QOS_SignalStrength</th>\n",
       "      <th>Connection_Category_clean</th>\n",
       "    </tr>\n",
       "  </thead>\n",
       "  <tbody>\n",
       "    <tr>\n",
       "      <th>10479</th>\n",
       "      <td>134</td>\n",
       "      <td>raw_3_Three Mobile</td>\n",
       "      <td>4</td>\n",
       "      <td>-101</td>\n",
       "      <td>4</td>\n",
       "    </tr>\n",
       "    <tr>\n",
       "      <th>14076</th>\n",
       "      <td>183</td>\n",
       "      <td>raw_Tesco Mobile_Tesco</td>\n",
       "      <td>0</td>\n",
       "      <td>-61</td>\n",
       "      <td>3</td>\n",
       "    </tr>\n",
       "    <tr>\n",
       "      <th>1937</th>\n",
       "      <td>28</td>\n",
       "      <td>NaN</td>\n",
       "      <td>1</td>\n",
       "      <td>-87</td>\n",
       "      <td>3</td>\n",
       "    </tr>\n",
       "    <tr>\n",
       "      <th>11010</th>\n",
       "      <td>18</td>\n",
       "      <td>raw_3_Three Mobile</td>\n",
       "      <td>4</td>\n",
       "      <td>-76</td>\n",
       "      <td>4</td>\n",
       "    </tr>\n",
       "    <tr>\n",
       "      <th>9793</th>\n",
       "      <td>24</td>\n",
       "      <td>raw_SMARTY_Smarty</td>\n",
       "      <td>4</td>\n",
       "      <td>-95</td>\n",
       "      <td>4</td>\n",
       "    </tr>\n",
       "  </tbody>\n",
       "</table>\n",
       "</div>"
      ],
      "text/plain": [
       "         c             cleaned_mno  test_status  QOS_SignalStrength  \\\n",
       "10479  134      raw_3_Three Mobile            4                -101   \n",
       "14076  183  raw_Tesco Mobile_Tesco            0                 -61   \n",
       "1937    28                     NaN            1                 -87   \n",
       "11010   18      raw_3_Three Mobile            4                 -76   \n",
       "9793    24       raw_SMARTY_Smarty            4                 -95   \n",
       "\n",
       "      Connection_Category_clean  \n",
       "10479                         4  \n",
       "14076                         3  \n",
       "1937                          3  \n",
       "11010                         4  \n",
       "9793                          4  "
      ]
     },
     "execution_count": 579,
     "metadata": {},
     "output_type": "execute_result"
    }
   ],
   "source": [
    "df.sample(5)"
   ]
  },
  {
   "cell_type": "markdown",
   "id": "17619c42-9a31-4b95-9560-35eeb3343ea2",
   "metadata": {},
   "source": [
    "## Test status 0/1"
   ]
  },
  {
   "cell_type": "code",
   "execution_count": 583,
   "id": "a390dc79-2ee4-4b79-8ae6-6c7a7f9bcb42",
   "metadata": {},
   "outputs": [],
   "source": [
    "def clean_test_status(status):\n",
    "    return status.apply(lambda x: '1' if x==0 else 0)"
   ]
  },
  {
   "cell_type": "code",
   "execution_count": 584,
   "id": "861214fa-3d4c-47fb-9b8c-9a928767bebd",
   "metadata": {},
   "outputs": [],
   "source": [
    "df['test_status'] = clean_test_status(df['test_status'])"
   ]
  },
  {
   "cell_type": "markdown",
   "id": "5b94d3e1-bf81-42b9-8367-459241a74124",
   "metadata": {},
   "source": [
    "## Drop all but big 4 MNOs"
   ]
  },
  {
   "cell_type": "code",
   "execution_count": 580,
   "id": "9640eb54-14a0-4528-be5c-e834147fd1db",
   "metadata": {},
   "outputs": [],
   "source": [
    "df_big_four = df[df['cleaned_mno'].apply(lambda x:x in ['O2',3,'V','EE'])]"
   ]
  },
  {
   "cell_type": "code",
   "execution_count": 582,
   "id": "e26eb01f-3d9b-4fc7-a2a8-d0accc78f9f2",
   "metadata": {},
   "outputs": [
    {
     "data": {
      "text/html": [
       "<div>\n",
       "<style scoped>\n",
       "    .dataframe tbody tr th:only-of-type {\n",
       "        vertical-align: middle;\n",
       "    }\n",
       "\n",
       "    .dataframe tbody tr th {\n",
       "        vertical-align: top;\n",
       "    }\n",
       "\n",
       "    .dataframe thead th {\n",
       "        text-align: right;\n",
       "    }\n",
       "</style>\n",
       "<table border=\"1\" class=\"dataframe\">\n",
       "  <thead>\n",
       "    <tr style=\"text-align: right;\">\n",
       "      <th></th>\n",
       "      <th>c</th>\n",
       "      <th>cleaned_mno</th>\n",
       "      <th>test_status</th>\n",
       "      <th>QOS_SignalStrength</th>\n",
       "      <th>Connection_Category_clean</th>\n",
       "    </tr>\n",
       "  </thead>\n",
       "  <tbody>\n",
       "    <tr>\n",
       "      <th>3226</th>\n",
       "      <td>2</td>\n",
       "      <td>EE</td>\n",
       "      <td>1</td>\n",
       "      <td>-109</td>\n",
       "      <td>5</td>\n",
       "    </tr>\n",
       "    <tr>\n",
       "      <th>5241</th>\n",
       "      <td>80</td>\n",
       "      <td>O2</td>\n",
       "      <td>4</td>\n",
       "      <td>-85</td>\n",
       "      <td>4</td>\n",
       "    </tr>\n",
       "    <tr>\n",
       "      <th>2465</th>\n",
       "      <td>14</td>\n",
       "      <td>V</td>\n",
       "      <td>4</td>\n",
       "      <td>-125</td>\n",
       "      <td>4</td>\n",
       "    </tr>\n",
       "    <tr>\n",
       "      <th>2755</th>\n",
       "      <td>127</td>\n",
       "      <td>V</td>\n",
       "      <td>3</td>\n",
       "      <td>-51</td>\n",
       "      <td>2</td>\n",
       "    </tr>\n",
       "    <tr>\n",
       "      <th>3670</th>\n",
       "      <td>5744</td>\n",
       "      <td>EE</td>\n",
       "      <td>0</td>\n",
       "      <td>-74</td>\n",
       "      <td>4</td>\n",
       "    </tr>\n",
       "  </tbody>\n",
       "</table>\n",
       "</div>"
      ],
      "text/plain": [
       "         c cleaned_mno  test_status  QOS_SignalStrength  \\\n",
       "3226     2          EE            1                -109   \n",
       "5241    80          O2            4                 -85   \n",
       "2465    14           V            4                -125   \n",
       "2755   127           V            3                 -51   \n",
       "3670  5744          EE            0                 -74   \n",
       "\n",
       "     Connection_Category_clean  \n",
       "3226                         5  \n",
       "5241                         4  \n",
       "2465                         4  \n",
       "2755                         2  \n",
       "3670                         4  "
      ]
     },
     "execution_count": 582,
     "metadata": {},
     "output_type": "execute_result"
    }
   ],
   "source": [
    "df_big_four.sample(5)"
   ]
  },
  {
   "cell_type": "code",
   "execution_count": null,
   "id": "c77990f0-8079-417f-8afd-e6d0d697d15a",
   "metadata": {},
   "outputs": [],
   "source": []
  },
  {
   "cell_type": "code",
   "execution_count": 378,
   "id": "9369d20a-a7b3-48da-960c-ac08d2c1e14e",
   "metadata": {},
   "outputs": [
    {
     "data": {
      "text/plain": [
       "test_status\n",
       "0    1426129\n",
       "1    4462880\n",
       "Name: c, dtype: int64"
      ]
     },
     "execution_count": 378,
     "metadata": {},
     "output_type": "execute_result"
    }
   ],
   "source": [
    "df.groupby('test_status')['c'].sum()"
   ]
  },
  {
   "cell_type": "code",
   "execution_count": 532,
   "id": "c3d09905-6222-4eae-b04e-1b1a63cdd5a9",
   "metadata": {},
   "outputs": [
    {
     "data": {
      "text/html": [
       "<div>\n",
       "<style scoped>\n",
       "    .dataframe tbody tr th:only-of-type {\n",
       "        vertical-align: middle;\n",
       "    }\n",
       "\n",
       "    .dataframe tbody tr th {\n",
       "        vertical-align: top;\n",
       "    }\n",
       "\n",
       "    .dataframe thead th {\n",
       "        text-align: right;\n",
       "    }\n",
       "</style>\n",
       "<table border=\"1\" class=\"dataframe\">\n",
       "  <thead>\n",
       "    <tr style=\"text-align: right;\">\n",
       "      <th></th>\n",
       "      <th>c</th>\n",
       "      <th>cleaned_mno</th>\n",
       "      <th>test_status</th>\n",
       "      <th>QOS_SignalStrength</th>\n",
       "      <th>Connection_Category_clean</th>\n",
       "    </tr>\n",
       "  </thead>\n",
       "  <tbody>\n",
       "    <tr>\n",
       "      <th>4149</th>\n",
       "      <td>6</td>\n",
       "      <td>O2</td>\n",
       "      <td>0</td>\n",
       "      <td>-54</td>\n",
       "      <td>4</td>\n",
       "    </tr>\n",
       "    <tr>\n",
       "      <th>4382</th>\n",
       "      <td>252</td>\n",
       "      <td>O2</td>\n",
       "      <td>0</td>\n",
       "      <td>-89</td>\n",
       "      <td>3</td>\n",
       "    </tr>\n",
       "    <tr>\n",
       "      <th>3689</th>\n",
       "      <td>75</td>\n",
       "      <td>EE</td>\n",
       "      <td>1</td>\n",
       "      <td>-128</td>\n",
       "      <td>4</td>\n",
       "    </tr>\n",
       "    <tr>\n",
       "      <th>3624</th>\n",
       "      <td>87</td>\n",
       "      <td>EE</td>\n",
       "      <td>0</td>\n",
       "      <td>-99</td>\n",
       "      <td>2</td>\n",
       "    </tr>\n",
       "    <tr>\n",
       "      <th>2575</th>\n",
       "      <td>18</td>\n",
       "      <td>V</td>\n",
       "      <td>0</td>\n",
       "      <td>-108</td>\n",
       "      <td>5</td>\n",
       "    </tr>\n",
       "  </tbody>\n",
       "</table>\n",
       "</div>"
      ],
      "text/plain": [
       "        c cleaned_mno test_status  QOS_SignalStrength  \\\n",
       "4149    6          O2           0                 -54   \n",
       "4382  252          O2           0                 -89   \n",
       "3689   75          EE           1                -128   \n",
       "3624   87          EE           0                 -99   \n",
       "2575   18           V           0                -108   \n",
       "\n",
       "     Connection_Category_clean  \n",
       "4149                         4  \n",
       "4382                         3  \n",
       "3689                         4  \n",
       "3624                         2  \n",
       "2575                         5  "
      ]
     },
     "execution_count": 532,
     "metadata": {},
     "output_type": "execute_result"
    }
   ],
   "source": [
    "df.sample(5)"
   ]
  },
  {
   "cell_type": "code",
   "execution_count": 380,
   "id": "8a1142d1-01e7-4844-b54e-22c8ca7eef94",
   "metadata": {},
   "outputs": [
    {
     "data": {
      "text/plain": [
       "18"
      ]
     },
     "execution_count": 380,
     "metadata": {},
     "output_type": "execute_result"
    }
   ],
   "source": [
    "df[df['QOS_SignalStrength'] == -17]['c'].sum()"
   ]
  },
  {
   "cell_type": "markdown",
   "id": "d522d2c5-d84d-402a-9ae6-08dd84b9781f",
   "metadata": {},
   "source": [
    "## Drop category and MNO and aggregate"
   ]
  },
  {
   "cell_type": "code",
   "execution_count": 533,
   "id": "2323c199-4742-4843-a2ca-ca27e109d892",
   "metadata": {},
   "outputs": [],
   "source": [
    "g = df.groupby(['QOS_SignalStrength','test_status'])"
   ]
  },
  {
   "cell_type": "code",
   "execution_count": 534,
   "id": "9feb53db-1fe0-4889-9623-8262224eb5a4",
   "metadata": {},
   "outputs": [],
   "source": [
    "aggregated = g.apply(lambda x: x['c'].sum())"
   ]
  },
  {
   "cell_type": "code",
   "execution_count": 535,
   "id": "70358728-69e2-4d76-a455-d59c54387130",
   "metadata": {},
   "outputs": [
    {
     "data": {
      "text/plain": [
       "123"
      ]
     },
     "execution_count": 535,
     "metadata": {},
     "output_type": "execute_result"
    }
   ],
   "source": [
    "pd.unique(aggregated.index.get_level_values(0))\n",
    "len(pd.unique(aggregated.index.get_level_values(0)))"
   ]
  },
  {
   "cell_type": "code",
   "execution_count": 536,
   "id": "23591bec-3a2a-4fbd-87e5-daa1d4e45160",
   "metadata": {},
   "outputs": [
    {
     "data": {
      "text/plain": [
       "QOS_SignalStrength  test_status\n",
       "-17                 0              1\n",
       "dtype: int64"
      ]
     },
     "execution_count": 536,
     "metadata": {},
     "output_type": "execute_result"
    }
   ],
   "source": [
    "aggregated[aggregated.index.get_level_values(0) == -17]"
   ]
  },
  {
   "cell_type": "code",
   "execution_count": 537,
   "id": "8ec203fe-921d-435d-87ac-ad2accaf18af",
   "metadata": {},
   "outputs": [
    {
     "data": {
      "text/plain": [
       "QOS_SignalStrength  test_status\n",
       "-65                 0                948\n",
       "-116                0              27998\n",
       "-100                1              89780\n",
       "-40                 1                  1\n",
       "-52                 0                 29\n",
       "-71                 0               1820\n",
       "-108                1              88129\n",
       "-65                 1               4823\n",
       "-37                 0                  1\n",
       "-123                0               4068\n",
       "dtype: int64"
      ]
     },
     "execution_count": 537,
     "metadata": {},
     "output_type": "execute_result"
    }
   ],
   "source": [
    "aggregated.sample(10)"
   ]
  },
  {
   "cell_type": "code",
   "execution_count": 538,
   "id": "a811f919-dc4d-411d-b5b4-f4088bc938ea",
   "metadata": {},
   "outputs": [],
   "source": [
    "n = aggregated.groupby(level=[0]).sum()"
   ]
  },
  {
   "cell_type": "code",
   "execution_count": 539,
   "id": "27fd7f65-3bf2-4d87-9ef8-ae93ac8b09de",
   "metadata": {},
   "outputs": [
    {
     "data": {
      "text/plain": [
       "QOS_SignalStrength\n",
       "-67     7624\n",
       "-6         3\n",
       "-134      95\n",
       "-60     1766\n",
       "-124    3683\n",
       "dtype: int64"
      ]
     },
     "execution_count": 539,
     "metadata": {},
     "output_type": "execute_result"
    }
   ],
   "source": [
    "n.sample(5)"
   ]
  },
  {
   "cell_type": "code",
   "execution_count": 555,
   "id": "c36637eb-a5d1-477e-970d-59a33011fa52",
   "metadata": {},
   "outputs": [],
   "source": [
    "normalised = aggregated/ n"
   ]
  },
  {
   "cell_type": "code",
   "execution_count": 556,
   "id": "f27743aa-8384-4b1c-a3ab-9f6d3926083b",
   "metadata": {},
   "outputs": [
    {
     "data": {
      "text/plain": [
       "QOS_SignalStrength  test_status\n",
       "-132                0              0.811765\n",
       "-53                 1              0.724965\n",
       "-48                 0              0.117647\n",
       "-78                 1              0.890106\n",
       "-52                 1              0.884000\n",
       "dtype: float64"
      ]
     },
     "execution_count": 556,
     "metadata": {},
     "output_type": "execute_result"
    }
   ],
   "source": [
    "normalised.sample(5)"
   ]
  },
  {
   "cell_type": "code",
   "execution_count": 557,
   "id": "e35ac46d-d793-40bd-8165-09300c25c7fa",
   "metadata": {},
   "outputs": [
    {
     "data": {
      "text/plain": [
       "123"
      ]
     },
     "execution_count": 557,
     "metadata": {},
     "output_type": "execute_result"
    }
   ],
   "source": [
    "len(pd.unique(normalised.index.get_level_values(0)))"
   ]
  },
  {
   "cell_type": "code",
   "execution_count": 558,
   "id": "7c38295c-f68e-4493-8ff3-77c20d8de00b",
   "metadata": {},
   "outputs": [],
   "source": [
    "normalised = normalised[normalised.index.get_level_values(1) == '1']\n",
    "# Drop failure rate"
   ]
  },
  {
   "cell_type": "code",
   "execution_count": 559,
   "id": "52269ade-9923-4a1b-a286-9aa7e6a68ebe",
   "metadata": {},
   "outputs": [
    {
     "data": {
      "text/plain": [
       "98"
      ]
     },
     "execution_count": 559,
     "metadata": {},
     "output_type": "execute_result"
    }
   ],
   "source": [
    "len(pd.unique(normalised.index.get_level_values(0)))"
   ]
  },
  {
   "cell_type": "code",
   "execution_count": 560,
   "id": "204db559-4eec-4785-918d-4240d56bcb8a",
   "metadata": {},
   "outputs": [
    {
     "data": {
      "text/plain": [
       "QOS_SignalStrength  test_status\n",
       "-52                 1              0.884000\n",
       "-104                1              0.806785\n",
       "-58                 1              0.896460\n",
       "-138                1              0.217391\n",
       "-117                1              0.424150\n",
       "dtype: float64"
      ]
     },
     "execution_count": 560,
     "metadata": {},
     "output_type": "execute_result"
    }
   ],
   "source": [
    "normalised.sample(5)"
   ]
  },
  {
   "cell_type": "code",
   "execution_count": 561,
   "id": "9bed9de4-e087-4a35-8f26-c47776edbeef",
   "metadata": {},
   "outputs": [],
   "source": [
    "normalised = normalised.droplevel(1)"
   ]
  },
  {
   "cell_type": "code",
   "execution_count": 562,
   "id": "fa6dc0bf-ce08-4901-bf44-e0d36c0daa22",
   "metadata": {},
   "outputs": [
    {
     "data": {
      "text/plain": [
       "QOS_SignalStrength\n",
       "-110    0.689758\n",
       "-44     0.785340\n",
       "-120    0.296645\n",
       "-47     0.921569\n",
       "-77     0.854275\n",
       "dtype: float64"
      ]
     },
     "execution_count": 562,
     "metadata": {},
     "output_type": "execute_result"
    }
   ],
   "source": [
    "normalised.sample(5)"
   ]
  },
  {
   "cell_type": "code",
   "execution_count": 563,
   "id": "2b69af44-aa0a-41ad-8e6e-f3d6ea8042d4",
   "metadata": {},
   "outputs": [],
   "source": [
    "nDict = n.to_dict()"
   ]
  },
  {
   "cell_type": "code",
   "execution_count": 553,
   "id": "a65e88a9-4cce-4591-9117-930415349a82",
   "metadata": {},
   "outputs": [],
   "source": [
    "###normalised['n'] = map(lambda x:nDict[x],normalised.index.values)"
   ]
  },
  {
   "cell_type": "code",
   "execution_count": 564,
   "id": "1f85a7ac-8c25-4db4-842e-697c3890e654",
   "metadata": {},
   "outputs": [],
   "source": [
    "normalised = pd.DataFrame(index = normalised.index, data = {'rate' : normalised.values\\\n",
    "                          ,'n':map(lambda x:nDict[x],normalised.index.values)})"
   ]
  },
  {
   "cell_type": "code",
   "execution_count": 565,
   "id": "e551f888-c7c4-4bf5-a299-1b5a17d6f94f",
   "metadata": {},
   "outputs": [
    {
     "data": {
      "text/html": [
       "<div>\n",
       "<style scoped>\n",
       "    .dataframe tbody tr th:only-of-type {\n",
       "        vertical-align: middle;\n",
       "    }\n",
       "\n",
       "    .dataframe tbody tr th {\n",
       "        vertical-align: top;\n",
       "    }\n",
       "\n",
       "    .dataframe thead th {\n",
       "        text-align: right;\n",
       "    }\n",
       "</style>\n",
       "<table border=\"1\" class=\"dataframe\">\n",
       "  <thead>\n",
       "    <tr style=\"text-align: right;\">\n",
       "      <th></th>\n",
       "      <th>rate</th>\n",
       "      <th>n</th>\n",
       "    </tr>\n",
       "    <tr>\n",
       "      <th>QOS_SignalStrength</th>\n",
       "      <th></th>\n",
       "      <th></th>\n",
       "    </tr>\n",
       "  </thead>\n",
       "  <tbody>\n",
       "    <tr>\n",
       "      <th>-71</th>\n",
       "      <td>0.858001</td>\n",
       "      <td>12817</td>\n",
       "    </tr>\n",
       "    <tr>\n",
       "      <th>-89</th>\n",
       "      <td>0.848761</td>\n",
       "      <td>59753</td>\n",
       "    </tr>\n",
       "    <tr>\n",
       "      <th>-118</th>\n",
       "      <td>0.376896</td>\n",
       "      <td>29077</td>\n",
       "    </tr>\n",
       "    <tr>\n",
       "      <th>-65</th>\n",
       "      <td>0.835730</td>\n",
       "      <td>5771</td>\n",
       "    </tr>\n",
       "    <tr>\n",
       "      <th>-132</th>\n",
       "      <td>0.188235</td>\n",
       "      <td>255</td>\n",
       "    </tr>\n",
       "  </tbody>\n",
       "</table>\n",
       "</div>"
      ],
      "text/plain": [
       "                        rate      n\n",
       "QOS_SignalStrength                 \n",
       "-71                 0.858001  12817\n",
       "-89                 0.848761  59753\n",
       "-118                0.376896  29077\n",
       "-65                 0.835730   5771\n",
       "-132                0.188235    255"
      ]
     },
     "execution_count": 565,
     "metadata": {},
     "output_type": "execute_result"
    }
   ],
   "source": [
    "normalised.sample(5)"
   ]
  },
  {
   "cell_type": "markdown",
   "id": "3a5a7022-b149-4a1e-9b65-17a0ae5121aa",
   "metadata": {},
   "source": [
    "## Add CIs"
   ]
  },
  {
   "cell_type": "code",
   "execution_count": 566,
   "id": "df65d185-09a6-48ac-a2fd-5ea8d8bccd14",
   "metadata": {},
   "outputs": [
    {
     "data": {
      "text/plain": [
       "(0.009900989118484497, 0.019801982164531506)"
      ]
     },
     "execution_count": 566,
     "metadata": {},
     "output_type": "execute_result"
    }
   ],
   "source": [
    "proportion_confint(1,100, method = 'binom_test',alpha = 0.95)"
   ]
  },
  {
   "cell_type": "code",
   "execution_count": 567,
   "id": "ee7a458a-3d5d-40cb-843c-54aa0786b846",
   "metadata": {},
   "outputs": [],
   "source": [
    "def get_ci(row):\n",
    "    return proportion_confint(int(row['rate'] * row['n']), row['n'], method = 'binom_test',alpha = 0.05)"
   ]
  },
  {
   "cell_type": "code",
   "execution_count": 568,
   "id": "84f449cb-0037-40ce-ab5b-525f6da222e3",
   "metadata": {},
   "outputs": [],
   "source": [
    "normalised['intervals'] = normalised.apply(get_ci,axis = 1)"
   ]
  },
  {
   "cell_type": "code",
   "execution_count": 569,
   "id": "b58b7a75-1e4a-469a-a7e6-19d30835cab4",
   "metadata": {},
   "outputs": [
    {
     "data": {
      "text/html": [
       "<div>\n",
       "<style scoped>\n",
       "    .dataframe tbody tr th:only-of-type {\n",
       "        vertical-align: middle;\n",
       "    }\n",
       "\n",
       "    .dataframe tbody tr th {\n",
       "        vertical-align: top;\n",
       "    }\n",
       "\n",
       "    .dataframe thead th {\n",
       "        text-align: right;\n",
       "    }\n",
       "</style>\n",
       "<table border=\"1\" class=\"dataframe\">\n",
       "  <thead>\n",
       "    <tr style=\"text-align: right;\">\n",
       "      <th></th>\n",
       "      <th>rate</th>\n",
       "      <th>n</th>\n",
       "      <th>intervals</th>\n",
       "    </tr>\n",
       "    <tr>\n",
       "      <th>QOS_SignalStrength</th>\n",
       "      <th></th>\n",
       "      <th></th>\n",
       "      <th></th>\n",
       "    </tr>\n",
       "  </thead>\n",
       "  <tbody>\n",
       "    <tr>\n",
       "      <th>-95</th>\n",
       "      <td>0.838015</td>\n",
       "      <td>89064</td>\n",
       "      <td>(0.8355799750119836, 0.8404248258181063)</td>\n",
       "    </tr>\n",
       "    <tr>\n",
       "      <th>-53</th>\n",
       "      <td>0.724965</td>\n",
       "      <td>709</td>\n",
       "      <td>(0.6904950840502229, 0.7568057441708547)</td>\n",
       "    </tr>\n",
       "    <tr>\n",
       "      <th>-124</th>\n",
       "      <td>0.199566</td>\n",
       "      <td>3683</td>\n",
       "      <td>(0.186915537803847, 0.21284678526200315)</td>\n",
       "    </tr>\n",
       "    <tr>\n",
       "      <th>-132</th>\n",
       "      <td>0.188235</td>\n",
       "      <td>255</td>\n",
       "      <td>(0.14443111213554446, 0.24086880923972945)</td>\n",
       "    </tr>\n",
       "    <tr>\n",
       "      <th>-87</th>\n",
       "      <td>0.850398</td>\n",
       "      <td>52526</td>\n",
       "      <td>(0.8473156112972271, 0.8534268718174506)</td>\n",
       "    </tr>\n",
       "  </tbody>\n",
       "</table>\n",
       "</div>"
      ],
      "text/plain": [
       "                        rate      n  \\\n",
       "QOS_SignalStrength                    \n",
       "-95                 0.838015  89064   \n",
       "-53                 0.724965    709   \n",
       "-124                0.199566   3683   \n",
       "-132                0.188235    255   \n",
       "-87                 0.850398  52526   \n",
       "\n",
       "                                                     intervals  \n",
       "QOS_SignalStrength                                              \n",
       "-95                   (0.8355799750119836, 0.8404248258181063)  \n",
       "-53                   (0.6904950840502229, 0.7568057441708547)  \n",
       "-124                  (0.186915537803847, 0.21284678526200315)  \n",
       "-132                (0.14443111213554446, 0.24086880923972945)  \n",
       "-87                   (0.8473156112972271, 0.8534268718174506)  "
      ]
     },
     "execution_count": 569,
     "metadata": {},
     "output_type": "execute_result"
    }
   ],
   "source": [
    "normalised.sample(5)"
   ]
  },
  {
   "cell_type": "code",
   "execution_count": 570,
   "id": "2dd95cad-a8c7-4d3c-837e-f6cdc225d46b",
   "metadata": {},
   "outputs": [],
   "source": [
    "def get_db_at_rate(rate = 0.5):\n",
    "    return normalised[(normalised['rate'] > rate) & (normalised.index > -130)].sort_index().index[0]\n",
    "# Add a hack to exclude very low signal with high rate but low n"
   ]
  },
  {
   "cell_type": "markdown",
   "id": "25c07973-b417-431d-b9cc-9d919e2708f9",
   "metadata": {},
   "source": [
    "## Plot (Full Dataset)"
   ]
  },
  {
   "cell_type": "code",
   "execution_count": 571,
   "id": "bfbe98ae-cdfd-405e-a533-94d9ee8793b7",
   "metadata": {},
   "outputs": [
    {
     "data": {
      "text/plain": [
       "QOS_SignalStrength\n",
       "-110    (0.6870873471476642, 0.6924156881816836)\n",
       "-124    (0.186915537803847, 0.21284678526200315)\n",
       "-134    (0.1627609915839891, 0.3414250203863437)\n",
       "-70       (0.88406714555188, 0.8963399426951186)\n",
       "-62     (0.8781802171836595, 0.9015795946860419)\n",
       "Name: intervals, dtype: object"
      ]
     },
     "execution_count": 571,
     "metadata": {},
     "output_type": "execute_result"
    }
   ],
   "source": [
    "normalised['intervals'].sample(5)"
   ]
  },
  {
   "cell_type": "code",
   "execution_count": 572,
   "id": "4ada9c72-18fd-4ff1-b121-2db9ff3c9d3e",
   "metadata": {},
   "outputs": [],
   "source": [
    "def plot_rate(normalised, name = 'plot'):\n",
    "    ax = plt.subplot()\n",
    "    \n",
    "    x_lims = [-140,-40]\n",
    "    \n",
    "    main_colour = plt.rcParams['axes.prop_cycle'].by_key()['color'][0]\n",
    "    \n",
    "    normalised.plot(kind = 'line', ax = ax, y = 'rate', legend = False)\n",
    "    # Plot rate\n",
    "    \n",
    "    plt.title('n = {:.1f} k'.format(normalised['n'].sum()/1000.))\n",
    "    # Label with total sample size\n",
    "    \n",
    "    ax.fill_between(normalised.index, normalised['intervals'].apply(lambda x:x[0]), normalised['intervals'].apply(lambda x:x[1]), alpha = 0.5)\n",
    "    # Add CIs\n",
    "    \n",
    "    for rate in [0.5, 0.75, 0.85]:\n",
    "        plt.plot([get_db_at_rate(rate), get_db_at_rate(rate)],[0,rate], color = 'grey', linestyle = '--')\n",
    "        plt.plot([x_lims[0],get_db_at_rate(rate)], [rate,rate], color = 'grey', linestyle = '--')\n",
    "    \n",
    "        plt.annotate('{:d}% : {:d} dB'.format(int(rate * 100), get_db_at_rate(rate)),xy = (-139, rate + 0.015),xycoords = 'data', color = 'grey')\n",
    "    # Add annotations and lines at certain rates\n",
    "    \n",
    "    plt.xlim(x_lims)\n",
    "    plt.ylim([0.0,1.0])\n",
    "    \n",
    "    ax.spines['top'].set_visible(False)\n",
    "    ax.spines['right'].set_visible(False)\n",
    "    # Drop frame\n",
    "    \n",
    "    plt.ylabel('Connectivity Success Rate')\n",
    "    plt.xlabel('Signal Strength (dB)')\n",
    "    # Label\n",
    "    \n",
    "    plt.savefig('figs/{:s}.png'.format(name),dpi = 300)\n",
    "    plt.savefig('figs/{:s}.svg'.format(name))\n",
    "    # Save"
   ]
  },
  {
   "cell_type": "code",
   "execution_count": 573,
   "id": "51b10a34-be4c-4bd5-ae8c-5df3d0d1363a",
   "metadata": {},
   "outputs": [
    {
     "data": {
      "image/png": "[encoded data removed]",
      "text/plain": [
       "<Figure size 640x480 with 1 Axes>"
      ]
     },
     "metadata": {},
     "output_type": "display_data"
    }
   ],
   "source": [
    "plot_rate(normalised,name = 'plot_big_4')"
   ]
  },
  {
   "cell_type": "markdown",
   "id": "2b89387a-7d83-4083-9641-921a72da1d4e",
   "metadata": {},
   "source": [
    "## Plot by MNO"
   ]
  },
  {
   "cell_type": "code",
   "execution_count": 574,
   "id": "300662f8-719b-4ac5-954f-cefd0aac427f",
   "metadata": {},
   "outputs": [
    {
     "data": {
      "text/html": [
       "<div>\n",
       "<style scoped>\n",
       "    .dataframe tbody tr th:only-of-type {\n",
       "        vertical-align: middle;\n",
       "    }\n",
       "\n",
       "    .dataframe tbody tr th {\n",
       "        vertical-align: top;\n",
       "    }\n",
       "\n",
       "    .dataframe thead th {\n",
       "        text-align: right;\n",
       "    }\n",
       "</style>\n",
       "<table border=\"1\" class=\"dataframe\">\n",
       "  <thead>\n",
       "    <tr style=\"text-align: right;\">\n",
       "      <th></th>\n",
       "      <th>c</th>\n",
       "      <th>cleaned_mno</th>\n",
       "      <th>test_status</th>\n",
       "      <th>QOS_SignalStrength</th>\n",
       "      <th>Connection_Category_clean</th>\n",
       "    </tr>\n",
       "  </thead>\n",
       "  <tbody>\n",
       "    <tr>\n",
       "      <th>4428</th>\n",
       "      <td>1</td>\n",
       "      <td>O2</td>\n",
       "      <td>0</td>\n",
       "      <td>-115</td>\n",
       "      <td>5</td>\n",
       "    </tr>\n",
       "    <tr>\n",
       "      <th>3524</th>\n",
       "      <td>2302</td>\n",
       "      <td>EE</td>\n",
       "      <td>0</td>\n",
       "      <td>-116</td>\n",
       "      <td>4</td>\n",
       "    </tr>\n",
       "    <tr>\n",
       "      <th>4391</th>\n",
       "      <td>328</td>\n",
       "      <td>O2</td>\n",
       "      <td>1</td>\n",
       "      <td>-56</td>\n",
       "      <td>4</td>\n",
       "    </tr>\n",
       "    <tr>\n",
       "      <th>2713</th>\n",
       "      <td>3</td>\n",
       "      <td>V</td>\n",
       "      <td>0</td>\n",
       "      <td>-72</td>\n",
       "      <td>4</td>\n",
       "    </tr>\n",
       "    <tr>\n",
       "      <th>4987</th>\n",
       "      <td>29</td>\n",
       "      <td>O2</td>\n",
       "      <td>0</td>\n",
       "      <td>-91</td>\n",
       "      <td>3</td>\n",
       "    </tr>\n",
       "  </tbody>\n",
       "</table>\n",
       "</div>"
      ],
      "text/plain": [
       "         c cleaned_mno test_status  QOS_SignalStrength  \\\n",
       "4428     1          O2           0                -115   \n",
       "3524  2302          EE           0                -116   \n",
       "4391   328          O2           1                 -56   \n",
       "2713     3           V           0                 -72   \n",
       "4987    29          O2           0                 -91   \n",
       "\n",
       "     Connection_Category_clean  \n",
       "4428                         5  \n",
       "3524                         4  \n",
       "4391                         4  \n",
       "2713                         4  \n",
       "4987                         3  "
      ]
     },
     "execution_count": 574,
     "metadata": {},
     "output_type": "execute_result"
    }
   ],
   "source": [
    "df.sample(5)"
   ]
  },
  {
   "cell_type": "code",
   "execution_count": 575,
   "id": "89dc2530-b8a2-4871-bfcd-9725b683b7d0",
   "metadata": {},
   "outputs": [],
   "source": [
    "g = df.groupby(['QOS_SignalStrength','test_status','cleaned_mno'])"
   ]
  },
  {
   "cell_type": "code",
   "execution_count": null,
   "id": "efbc04f2-b413-4430-91fd-9a956af8fa72",
   "metadata": {},
   "outputs": [],
   "source": []
  }
 ],
 "metadata": {
  "kernelspec": {
   "display_name": "Python 3 (ipykernel)",
   "language": "python",
   "name": "python3"
  },
  "language_info": {
   "codemirror_mode": {
    "name": "ipython",
    "version": 3
   },
   "file_extension": ".py",
   "mimetype": "text/x-python",
   "name": "python",
   "nbconvert_exporter": "python",
   "pygments_lexer": "ipython3",
   "version": "3.11.7"
  }
 },
 "nbformat": 4,
 "nbformat_minor": 5
}
